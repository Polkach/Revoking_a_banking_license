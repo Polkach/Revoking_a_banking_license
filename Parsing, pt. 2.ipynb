{
 "cells": [
  {
   "cell_type": "code",
   "execution_count": null,
   "metadata": {
    "collapsed": true
   },
   "outputs": [],
   "source": [
    "from suds.client import Client\n",
    "from suds.xsd.doctor import ImportDoctor, Import\n",
    "\n",
    "import pandas as pd\n",
    "import numpy as np"
   ]
  },
  {
   "cell_type": "markdown",
   "metadata": {},
   "source": [
    " Функция, получающая показтели нормативов банка с данной лицензией на данную дату с сайта cbr.ru"
   ]
  },
  {
   "cell_type": "code",
   "execution_count": null,
   "metadata": {
    "collapsed": true
   },
   "outputs": [],
   "source": [
    "def load_cbr_standarts(license_num, date):\n",
    "    # loads values of standarts (aka normativs) which are binding on russian banks\n",
    "    # license_num -- int value\n",
    "    # date -- string 'yyyy-mm-ddT00:00:00+03:00'\n",
    "    #    e.g. July, 1 2016 --> '2016-07-01T00:00:00+03:00'\n",
    "    # this data is available for the fist days of each month\n",
    "    # returns pandas data frame with values of standarts for chosen bank & date\n",
    "    url = 'http://www.cbr.ru/CreditInfoWebServ/CreditOrgInfo.asmx?WSDL'\n",
    "    imp = Import('http://schemas.xmlsoap.org/soap/encoding/')\n",
    "    imp.filter.add('http://web.cbr.ru/')\n",
    "    imp = Import('http://www.w3.org/2001/XMLSchema', location='http://www.w3.org/2001/XMLSchema.xsd')\n",
    "    imp.filter.add('http://web.cbr.ru/')\n",
    "    doctor = ImportDoctor(imp)\n",
    "    client = Client(url, doctor=doctor)\n",
    "    tmp = client.service.Data135FormFull(license_num, date)\n",
    "    try:\n",
    "        norms = tmp.diffgram.F135DATA.F135_3\n",
    "    except AttributeError:\n",
    "        return -1\n",
    "    df = pd.DataFrame()\n",
    "    for i in range(len(norms)):\n",
    "        ind_name = norms[i].C3\n",
    "        try:\n",
    "            ind_value = norms[i].V3\n",
    "        except AttributeError:\n",
    "            ind_value = None\n",
    "        df_tmp = pd.DataFrame({'Indicator_name': [ind_name], 'Indicator_value': [ind_value]})\n",
    "        df = df.append(df_tmp, ignore_index=True)\n",
    "    return df\n"
   ]
  },
  {
   "cell_type": "markdown",
   "metadata": {},
   "source": [
    "Немного форматируем дату"
   ]
  },
  {
   "cell_type": "code",
   "execution_count": null,
   "metadata": {
    "collapsed": true
   },
   "outputs": [],
   "source": [
    "def mts(month):\n",
    "    if month<10:\n",
    "        return '0'+str(month)\n",
    "    else:\n",
    "        return str(month)"
   ]
  },
  {
   "cell_type": "markdown",
   "metadata": {},
   "source": [
    "Загружаем список лицензий"
   ]
  },
  {
   "cell_type": "code",
   "execution_count": null,
   "metadata": {
    "collapsed": true
   },
   "outputs": [],
   "source": [
    "files = list(pd.read_csv('data/files',header=None)[0].values)"
   ]
  },
  {
   "cell_type": "markdown",
   "metadata": {},
   "source": [
    "Загружаем банки"
   ]
  },
  {
   "cell_type": "code",
   "execution_count": null,
   "metadata": {
    "collapsed": true
   },
   "outputs": [],
   "source": [
    "banks = {}\n",
    "for i in files:\n",
    "    banks[i] = pd.read_csv('data2/'+str(i)+'.csv',encoding='UTF-8')"
   ]
  },
  {
   "cell_type": "markdown",
   "metadata": {},
   "source": [
    "Загружаем показатели нормативов для всех банков"
   ]
  },
  {
   "cell_type": "code",
   "execution_count": null,
   "metadata": {
    "collapsed": true
   },
   "outputs": [],
   "source": [
    "for j,name in enumerate(files):\n",
    "    if j%10==0:\n",
    "        print(j)\n",
    "    sozd = 0\n",
    "    for i in range(len(banks[name])):\n",
    "        try:\n",
    "            tmp = load_cbr_standarts(name, str(banks[name]['year'][i])+'-'+mts(banks[name]['month'][i])+'-01T00:00:00+03:00')\n",
    "        except AttributeError:\n",
    "            tmp = -1\n",
    "        if type(tmp)!=int:\n",
    "            tmp = tmp.set_index(tmp['Indicator_name'])\n",
    "            del tmp['Indicator_name']\n",
    "            tmp = tmp.transpose()\n",
    "            tmp.index = [i]\n",
    "            if sozd==0:\n",
    "                values = tmp\n",
    "                sozd = 1\n",
    "            else:\n",
    "                values = values.append(tmp)\n",
    "    banks[name] = pd.concat([banks[name], values], axis=1)\n",
    "    banks[name].to_csv('data2/'+str(name)+'.csv',index=False,encoding='UTF-8')"
   ]
  },
  {
   "cell_type": "markdown",
   "metadata": {},
   "source": [
    "Для разных банков и дат получились разные списки доступных нормативов. Собираем все полученные нормативы в один массив"
   ]
  },
  {
   "cell_type": "code",
   "execution_count": null,
   "metadata": {
    "collapsed": true
   },
   "outputs": [],
   "source": [
    "t1 = [x for x in banks[files[0]][banks[files[0]].columns[59]] if str(x) != 'nan']\n",
    "for i in files[1:]:\n",
    "    t2 = [x for x in banks[i][banks[i].columns[59]] if str(x) != 'nan']\n",
    "    if t1==t2:\n",
    "        banks[i] = pd.read_csv('data/'+str(i)+'.csv')\n",
    "        for j in banks[1].columns[58:]:\n",
    "            banks[i][j] = np.nan\n",
    "    t1 = t2"
   ]
  },
  {
   "cell_type": "markdown",
   "metadata": {},
   "source": [
    "От норматива Н1 в какой-то момент перешли к нормативам Н1.0, Н1.1 и Н1.2. Соединяем эти показатели"
   ]
  },
  {
   "cell_type": "code",
   "execution_count": null,
   "metadata": {
    "collapsed": true
   },
   "outputs": [],
   "source": [
    "for k in files:\n",
    "    if u'Н1' in banks[k].columns:\n",
    "        for i in [u'Н1.0',u'Н1.1',u'Н1.2']:\n",
    "            if i in banks[k].columns:\n",
    "                banks[k][i][((banks[k]['year']-2008)*12+banks[k]['month'])<74] = banks[k][u'Н1'][((banks[k]['year']-2008)*12+banks[k]['month'])<74]"
   ]
  },
  {
   "cell_type": "markdown",
   "metadata": {},
   "source": [
    "Опять считаем пропуски"
   ]
  },
  {
   "cell_type": "code",
   "execution_count": null,
   "metadata": {
    "collapsed": true
   },
   "outputs": [],
   "source": [
    "non = {}\n",
    "for j in banks[1].columns:\n",
    "    non[j] = 0\n",
    "for i in files:\n",
    "    for j in banks[1].columns:\n",
    "        if j in banks[i].columns:\n",
    "            non[j]+=np.sum(banks[i][((banks[i]['year']-2008)*12+banks[i]['month'])>37][j].isnull())\n",
    "        else:\n",
    "            non[j]+=len(banks[i][((banks[i]['year']-2008)*12+banks[i]['month'])>37])"
   ]
  },
  {
   "cell_type": "markdown",
   "metadata": {},
   "source": [
    "Ищем \"плохие\" признаки с большим количество пропусков"
   ]
  },
  {
   "cell_type": "code",
   "execution_count": null,
   "metadata": {
    "collapsed": true
   },
   "outputs": [],
   "source": [
    "bad = []\n",
    "for i in non.keys():\n",
    "    if non[i]>10000:\n",
    "        bad.append(i)\n",
    "for i in files:\n",
    "    for j in bad:\n",
    "        if j in banks[i].columns:\n",
    "            del banks[i][j]"
   ]
  },
  {
   "cell_type": "markdown",
   "metadata": {},
   "source": [
    "Вычисляем максимальные и минимальные показатели для значений нормативов"
   ]
  },
  {
   "cell_type": "code",
   "execution_count": null,
   "metadata": {
    "collapsed": true
   },
   "outputs": [],
   "source": [
    "maxv = {}\n",
    "minv = {}\n",
    "for j in banks[1].columns[58:]:\n",
    "    maxv[j] = np.max(banks[1][j])\n",
    "    minv[j] = np.min(banks[1][j])\n",
    "for i in files:\n",
    "    for j in banks[1].columns[58:]:\n",
    "        if j in banks[i].columns:\n",
    "            maxv[j] = max(maxv[j],np.max(banks[i][j]))\n",
    "            minv[j] = min(minv[j],np.min(banks[i][j]))"
   ]
  },
  {
   "cell_type": "markdown",
   "metadata": {},
   "source": [
    "Назначаем значения для пропусков"
   ]
  },
  {
   "cell_type": "code",
   "execution_count": null,
   "metadata": {
    "collapsed": true
   },
   "outputs": [],
   "source": [
    "fillin = minv.copy()\n",
    "fillin[u'\\u041d1.0'] = -100\n",
    "fillin[u'\\u041d1.1'] = -100\n",
    "fillin[u'\\u041d1.2'] = -100\n",
    "fillin[u'\\u041d10.1'] = -100\n",
    "fillin[u'\\u041d12'] = -100\n",
    "fillin[u'\\u041d2'] = -10\n",
    "fillin[u'\\u041d3'] = -10\n",
    "fillin[u'\\u041d4'] = -10\n",
    "fillin[u'\\u041d7'] = -10000\n",
    "fillin[u'\\u041d9.1'] = -100"
   ]
  },
  {
   "cell_type": "markdown",
   "metadata": {},
   "source": [
    "Заполняем пропуски (в отличие от парсинга сайта banki.ru мы более лояльны к пропускам, так как несоотвествие нормативам является важныи индикатором для скорого отзыва лицензии)"
   ]
  },
  {
   "cell_type": "code",
   "execution_count": null,
   "metadata": {
    "collapsed": true
   },
   "outputs": [],
   "source": [
    "for i in files:\n",
    "    for j in banks[1].columns[58:]:\n",
    "        if j in banks[i].columns:\n",
    "            banks[i][j] = banks[i][j].fillna(value=fillin[j])\n",
    "        else:\n",
    "            banks[i][j] = fillin[j]"
   ]
  },
  {
   "cell_type": "markdown",
   "metadata": {},
   "source": [
    "Созраняем изменения"
   ]
  },
  {
   "cell_type": "code",
   "execution_count": null,
   "metadata": {
    "collapsed": true
   },
   "outputs": [],
   "source": [
    "for i in files:\n",
    "    banks[i].to_csv('data2/'+str(i)+'.csv',encoding='UTF-8',index=False)"
   ]
  }
 ],
 "metadata": {
  "anaconda-cloud": {},
  "kernelspec": {
   "display_name": "Python [conda root]",
   "language": "python",
   "name": "conda-root-py"
  },
  "language_info": {
   "codemirror_mode": {
    "name": "ipython",
    "version": 3
   },
   "file_extension": ".py",
   "mimetype": "text/x-python",
   "name": "python",
   "nbconvert_exporter": "python",
   "pygments_lexer": "ipython3",
   "version": "3.5.2"
  }
 },
 "nbformat": 4,
 "nbformat_minor": 1
}
