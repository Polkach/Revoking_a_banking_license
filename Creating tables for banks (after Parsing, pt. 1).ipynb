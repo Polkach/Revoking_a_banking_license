{
 "cells": [
  {
   "cell_type": "code",
   "execution_count": null,
   "metadata": {
    "collapsed": true
   },
   "outputs": [],
   "source": [
    "import pandas as pd\n",
    "import numpy as np"
   ]
  },
  {
   "cell_type": "markdown",
   "metadata": {},
   "source": [
    "Создаем массив дат, для которых имеются наблюдения"
   ]
  },
  {
   "cell_type": "code",
   "execution_count": null,
   "metadata": {
    "collapsed": true
   },
   "outputs": [],
   "source": [
    "dates = []\n",
    "for year in range(2008,2018):\n",
    "    for month in range(1,13):\n",
    "        if month>=10:\n",
    "            dates.append(str(year)+'-'+str(month)+'-01')\n",
    "        else:\n",
    "            dates.append(str(year)+'-0'+str(month)+'-01')\n",
    "dates = dates[2:-9]"
   ]
  },
  {
   "cell_type": "markdown",
   "metadata": {},
   "source": [
    "Открываем файл с таблицей макроэкономических показателей"
   ]
  },
  {
   "cell_type": "code",
   "execution_count": null,
   "metadata": {
    "collapsed": true
   },
   "outputs": [],
   "source": [
    "macro = pd.read_csv('macro.csv')"
   ]
  },
  {
   "cell_type": "markdown",
   "metadata": {},
   "source": [
    "Открываем таблицы с показателями за различные месяцы и добавляем к ним макроэкономические показатели за этот месяц. При этом создаем таблицы для каждого банка и последовательно, по датам, заносим туда информацию для банка за каждый месяц"
   ]
  },
  {
   "cell_type": "code",
   "execution_count": null,
   "metadata": {
    "collapsed": true
   },
   "outputs": [],
   "source": [
    "banks = {}\n",
    "for j,now in enumerate(dates):\n",
    "    if j%10==0:\n",
    "        print(j)\n",
    "    base = pd.read_csv('banki.ru/'+now+'.csv',index_col=0)\n",
    "    base = base.transpose()\n",
    "    for column in macro.columns:\n",
    "        base[column] = macro[column][108-j]\n",
    "    for i in range(len(base)):\n",
    "        if base.index[i][:3]=='Unn':\n",
    "            continue\n",
    "        num = int(base.index[i])\n",
    "        if num in banks.keys():\n",
    "            banks[num] = banks[num].append(base.take([i]))\n",
    "        else:\n",
    "            banks.update({num:base.take([i])})"
   ]
  },
  {
   "cell_type": "markdown",
   "metadata": {
    "collapsed": false,
    "scrolled": true
   },
   "source": [
    "Убираем банки с потерянными наблюдениями"
   ]
  },
  {
   "cell_type": "code",
   "execution_count": null,
   "metadata": {
    "collapsed": true
   },
   "outputs": [],
   "source": [
    "for name in banks.keys():\n",
    "    banks[name]['por'] = (banks[name]['year']-2008)*12+banks[name]['month']\n",
    "    if len(banks[name])-(banks[name]['por'][len(banks[name])-1]-banks[name]['por'][0]+1)!=0:\n",
    "        print(name,len(banks[name])-(banks[name]['por'][len(banks[name])-1]-banks[name]['por'][0]+1))\n",
    "        del banks[name]"
   ]
  },
  {
   "cell_type": "markdown",
   "metadata": {},
   "source": [
    "Считаем пропуски для признаков"
   ]
  },
  {
   "cell_type": "code",
   "execution_count": null,
   "metadata": {
    "collapsed": true
   },
   "outputs": [],
   "source": [
    "non = {}\n",
    "for i in banks[1].columns:\n",
    "    non[i] = 0\n",
    "for j,name in enumerate(banks.keys()):\n",
    "    if j%50==0:\n",
    "        print(j)\n",
    "    for i in banks[1].columns:\n",
    "        non[i] += np.sum(banks[name][i].isnull())"
   ]
  },
  {
   "cell_type": "markdown",
   "metadata": {},
   "source": [
    "Определяем \"хорошие\" признаки, как признаки, где менее 900 пропусков"
   ]
  },
  {
   "cell_type": "code",
   "execution_count": null,
   "metadata": {
    "collapsed": true
   },
   "outputs": [],
   "source": [
    "good_feat = []\n",
    "for i,j in non.items():\n",
    "    if j<900:\n",
    "        good_feat.append(i)"
   ]
  },
  {
   "cell_type": "markdown",
   "metadata": {},
   "source": [
    "Оставляем только \"хорошие\" признаки"
   ]
  },
  {
   "cell_type": "code",
   "execution_count": null,
   "metadata": {
    "collapsed": true
   },
   "outputs": [],
   "source": [
    "for name in banks.keys():\n",
    "    banks[name] = banks[name][good_feat]\n",
    "    del banks[name]['por']"
   ]
  },
  {
   "cell_type": "markdown",
   "metadata": {},
   "source": [
    "Сохраняем результат файлы с названиями по номерам лицензий"
   ]
  },
  {
   "cell_type": "code",
   "execution_count": null,
   "metadata": {
    "collapsed": true
   },
   "outputs": [],
   "source": [
    "for name in banks.keys():\n",
    "    banks[name].to_csv('data/'+str(name)+'.csv',index=False)"
   ]
  },
  {
   "cell_type": "markdown",
   "metadata": {},
   "source": [
    "Эти признаки были \"хорошими\", но для них имелся пропуск в один из месяцев для всех банков"
   ]
  },
  {
   "cell_type": "code",
   "execution_count": null,
   "metadata": {
    "collapsed": true
   },
   "outputs": [],
   "source": [
    "bad = ['180','400','410','500','510','600']"
   ]
  },
  {
   "cell_type": "markdown",
   "metadata": {},
   "source": [
    "Исправляем этот пропуск"
   ]
  },
  {
   "cell_type": "code",
   "execution_count": null,
   "metadata": {
    "collapsed": true
   },
   "outputs": [],
   "source": [
    "for name in banks.keys():\n",
    "    if banks[name].index[0]<79 and banks[name].index[len(banks[name])-1]>79:\n",
    "        for j in bad:\n",
    "            banks[name][j][79] = (banks[name][j][78]+banks[name][j][80])/2\n",
    "    elif banks[name].index[0]==79:\n",
    "        for j in bad:\n",
    "            banks[name][j][79] = banks[name][j][80]\n",
    "    elif banks[name].index[len(banks[name])-1]==79:\n",
    "        for j in bad:\n",
    "            banks[name][j][79] = banks[name][j][78]"
   ]
  }
 ],
 "metadata": {
  "anaconda-cloud": {},
  "kernelspec": {
   "display_name": "Python [conda root]",
   "language": "python",
   "name": "conda-root-py"
  },
  "language_info": {
   "codemirror_mode": {
    "name": "ipython",
    "version": 3
   },
   "file_extension": ".py",
   "mimetype": "text/x-python",
   "name": "python",
   "nbconvert_exporter": "python",
   "pygments_lexer": "ipython3",
   "version": "3.5.2"
  }
 },
 "nbformat": 4,
 "nbformat_minor": 1
}
