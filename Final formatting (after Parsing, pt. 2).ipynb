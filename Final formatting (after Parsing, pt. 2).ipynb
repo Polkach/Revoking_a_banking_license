{
 "cells": [
  {
   "cell_type": "code",
   "execution_count": null,
   "metadata": {
    "collapsed": true
   },
   "outputs": [],
   "source": [
    "import pandas as pd\n",
    "import numpy as np\n",
    "import requests\n",
    "import re\n",
    "from bs4 import BeautifulSoup"
   ]
  },
  {
   "cell_type": "markdown",
   "metadata": {},
   "source": [
    "Открываем таблицы банков"
   ]
  },
  {
   "cell_type": "code",
   "execution_count": null,
   "metadata": {
    "collapsed": true
   },
   "outputs": [],
   "source": [
    "files = pd.read_csv('data/files.txt',header=None)\n",
    "banks = {}\n",
    "for i in files:\n",
    "    banks[i] = pd.read_csv('data/'+str(i)+'.csv')"
   ]
  },
  {
   "cell_type": "markdown",
   "metadata": {},
   "source": [
    "Создаем свой индикатор"
   ]
  },
  {
   "cell_type": "code",
   "execution_count": null,
   "metadata": {
    "collapsed": true
   },
   "outputs": [],
   "source": [
    "for i in files:\n",
    "    banks[i]['por'] = (banks[i]['year']-2008)*12 + banks[i]['month']"
   ]
  },
  {
   "cell_type": "markdown",
   "metadata": {},
   "source": [
    "Собираем информацию о последнем месяце наблюдений для банков, 113 - незвестно когда"
   ]
  },
  {
   "cell_type": "code",
   "execution_count": null,
   "metadata": {
    "collapsed": true
   },
   "outputs": [],
   "source": [
    "ends = {}\n",
    "c = 0\n",
    "for i in files:\n",
    "    ends[i] = banks[i]['por'][len(banks[i])-1]\n",
    "    if ends[i]==111:\n",
    "        ends[i] = 113"
   ]
  },
  {
   "cell_type": "markdown",
   "metadata": {},
   "source": [
    "Снова понадобится убрать html синтаксис"
   ]
  },
  {
   "cell_type": "code",
   "execution_count": null,
   "metadata": {
    "collapsed": true
   },
   "outputs": [],
   "source": [
    "def html_stripper(text):\n",
    "    return re.sub('<[^<]+?>', '', str(text))"
   ]
  },
  {
   "cell_type": "markdown",
   "metadata": {},
   "source": [
    "Парсим страницу на banki.ru, где хранится история отзывов лицензий у банков"
   ]
  },
  {
   "cell_type": "code",
   "execution_count": null,
   "metadata": {
    "collapsed": true
   },
   "outputs": [],
   "source": [
    "ends2 = {}\n",
    "for j in range(1,13):\n",
    "    print(j)\n",
    "    url = 'http://www.banki.ru/banks/memory/?PAGEN_1=' + str(j)\n",
    "    page = requests.get(url)\n",
    "    page = page.content\n",
    "    page = BeautifulSoup(page, 'lxml')\n",
    "    table = page.findAll('table',attrs={'class':'standard-table standard-table--row-highlight'})\n",
    "    table = re.split('<td>',str(table))[1:]\n",
    "    for i in range(50):\n",
    "        name = re.sub('\\n','',html_stripper(table[2+6*i]))\n",
    "        if name.isdigit():\n",
    "            ends2[int(name)] = (int(re.sub('\\n','',html_stripper(table[4+6*i]))[-4:])-2008)*12+int(re.sub('\\n','',html_stripper(table[4+6*i]))[-7:-5])\n",
    "        elif name[:-1].isdigit():\n",
    "            ends2[int(name[:-1])] = (int(re.sub('\\n','',html_stripper(table[4+6*i]))[-4:])-2008)*12+int(re.sub('\\n','',html_stripper(table[4+6*i]))[-7:-5])\n",
    "        elif name[:-2].isdigit():\n",
    "            ends2[int(name[:-2])] = (int(re.sub('\\n','',html_stripper(table[4+6*i]))[-4:])-2008)*12+int(re.sub('\\n','',html_stripper(table[4+6*i]))[-7:-5])\n",
    "        elif name[:-3].isdigit():\n",
    "            ends2[int(name[:-3])] = (int(re.sub('\\n','',html_stripper(table[4+6*i]))[-4:])-2008)*12+int(re.sub('\\n','',html_stripper(table[4+6*i]))[-7:-5])\n",
    "        elif name[:-4].isdigit():\n",
    "            ends2[int(name[:-4])] = (int(re.sub('\\n','',html_stripper(table[4+6*i]))[-4:])-2008)*12+int(re.sub('\\n','',html_stripper(table[4+6*i]))[-7:-5])"
   ]
  },
  {
   "cell_type": "markdown",
   "metadata": {},
   "source": [
    "Для некоторых банков наблюдения больше не продолжатся точно"
   ]
  },
  {
   "cell_type": "code",
   "execution_count": null,
   "metadata": {
    "collapsed": true
   },
   "outputs": [],
   "source": [
    "for i in ends.keys():\n",
    "    if (i in ends2.keys()) and ends[i]==113 and ends2[i]==111:\n",
    "        ends[i] = 111"
   ]
  },
  {
   "cell_type": "markdown",
   "metadata": {},
   "source": [
    "Удаляем банки с слишком большой разницей между разрывом в наблюдениях и информацией о закрытии"
   ]
  },
  {
   "cell_type": "code",
   "execution_count": null,
   "metadata": {
    "collapsed": true
   },
   "outputs": [],
   "source": [
    "for i in ends2.keys():\n",
    "    if i not in ends.keys():\n",
    "        c =2\n",
    "    elif ends[i]!=ends2[i] and ends[i]+1!=ends2[i] and ends[i]!=1+ends2[i]:\n",
    "        print(i,ends[i],ends2[i])\n",
    "for i in ends.keys():\n",
    "    if ends[i]<112 and (i not in ends2.keys()):\n",
    "        print('los',i,ends[i])"
   ]
  },
  {
   "cell_type": "markdown",
   "metadata": {},
   "source": [
    "Удаляем нулевые наблюдения для оставшихся банков"
   ]
  },
  {
   "cell_type": "code",
   "execution_count": null,
   "metadata": {
    "collapsed": true
   },
   "outputs": [],
   "source": [
    "for i in ends.keys():\n",
    "    if (i in ends2.keys()) and ends[i]>ends2[i]:\n",
    "        banks[i] = banks[i][:-1]\n",
    "        ends[i] -= 1"
   ]
  },
  {
   "cell_type": "markdown",
   "metadata": {},
   "source": [
    "Создаем целевые переменные"
   ]
  },
  {
   "cell_type": "code",
   "execution_count": null,
   "metadata": {
    "collapsed": true
   },
   "outputs": [],
   "source": [
    "for i in ends.keys():\n",
    "    banks[i]['y0'] = ((ends[i]-banks[i]['por'])==0)*1\n",
    "    banks[i]['y1'] = ((ends[i]-banks[i]['por'])<=2)*1\n",
    "    banks[i]['y2'] = ((ends[i]-banks[i]['por'])<=5)*1\n",
    "    banks[i]['y3'] = ((ends[i]-banks[i]['por'])<=8)*1\n",
    "    banks[i]['y4'] = ((ends[i]-banks[i]['por'])<=11)*1\n",
    "    banks[i]['y5'] = ((ends[i]-banks[i]['por'])<=17)*1\n",
    "    banks[i]['y6'] = ((ends[i]-banks[i]['por'])<=23)*1\n",
    "    banks[i]['y7'] = ((ends[i]-banks[i]['por'])<=35)*1\n",
    "    if ends[i]==113:\n",
    "        banks[i]['y1'] = ((ends[i]-banks[i]['por'])<=3)*(-1)\n",
    "        banks[i]['y2'] = ((ends[i]-banks[i]['por'])<=6)*(-1)\n",
    "        banks[i]['y3'] = ((ends[i]-banks[i]['por'])<=9)*(-1)\n",
    "        banks[i]['y4'] = ((ends[i]-banks[i]['por'])<=12)*(-1)\n",
    "        banks[i]['y5'] = ((ends[i]-banks[i]['por'])<=18)*(-1)\n",
    "        banks[i]['y6'] = ((ends[i]-banks[i]['por'])<=24)*(-1)\n",
    "        banks[i]['y7'] = ((ends[i]-banks[i]['por'])<=36)*(-1)"
   ]
  },
  {
   "cell_type": "markdown",
   "metadata": {},
   "source": [
    "Сохраняем результат"
   ]
  },
  {
   "cell_type": "code",
   "execution_count": null,
   "metadata": {
    "collapsed": true
   },
   "outputs": [],
   "source": [
    "for i in ends.keys():\n",
    "    del banks[i]['por']\n",
    "    banks[i].to_csv('data/'+str(i)+'.csv',index=False)"
   ]
  }
 ],
 "metadata": {
  "anaconda-cloud": {},
  "kernelspec": {
   "display_name": "Python [conda root]",
   "language": "python",
   "name": "conda-root-py"
  },
  "language_info": {
   "codemirror_mode": {
    "name": "ipython",
    "version": 3
   },
   "file_extension": ".py",
   "mimetype": "text/x-python",
   "name": "python",
   "nbconvert_exporter": "python",
   "pygments_lexer": "ipython3",
   "version": "3.5.2"
  }
 },
 "nbformat": 4,
 "nbformat_minor": 1
}
